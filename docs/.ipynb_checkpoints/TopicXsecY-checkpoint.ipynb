{
 "cells": [
  {
   "cell_type": "markdown",
   "id": "c90b3c78",
   "metadata": {},
   "source": [
    "(Topic2)=\n",
    "# Topic 2\n",
    "Text"
   ]
  },
  {
   "cell_type": "markdown",
   "id": "ab54e632",
   "metadata": {},
   "source": [
    "## Questions for Practice\n",
    "\n",
    "\n",
    "`````{admonition} Question 1\n",
    ":class: dropdown, hint\n",
    "````{tab-set}\n",
    "```{tab-item} Question\n",
    "QUESTION TEXT HERE\n",
    "```\n",
    "\n",
    "```{tab-item} Hint\n",
    "HINT TEXT HERE\n",
    "```\n",
    "\n",
    "```{tab-item} Solution\n",
    "SOLUTION TEXT HERE\n",
    "```\n",
    "````\n",
    "`````"
   ]
  },
  {
   "cell_type": "markdown",
   "id": "32ef8bfc",
   "metadata": {},
   "source": [
    "`````{admonition} Question 2\n",
    ":class: dropdown, hint\n",
    "````{tab-set}\n",
    "```{tab-item} Question\n",
    "QUESTION TEXT HERE\n",
    "```\n",
    "\n",
    "```{tab-item} Hint\n",
    "HINT TEXT HERE\n",
    "```\n",
    "\n",
    "```{tab-item} Solution\n",
    "SOLUTION TEXT HERE\n",
    "```\n",
    "````\n",
    "`````"
   ]
  }
 ],
 "metadata": {
  "kernelspec": {
   "display_name": "Python 3 (ipykernel)",
   "language": "python",
   "name": "python3"
  },
  "language_info": {
   "codemirror_mode": {
    "name": "ipython",
    "version": 3
   },
   "file_extension": ".py",
   "mimetype": "text/x-python",
   "name": "python",
   "nbconvert_exporter": "python",
   "pygments_lexer": "ipython3",
   "version": "3.9.16"
  }
 },
 "nbformat": 4,
 "nbformat_minor": 5
}
