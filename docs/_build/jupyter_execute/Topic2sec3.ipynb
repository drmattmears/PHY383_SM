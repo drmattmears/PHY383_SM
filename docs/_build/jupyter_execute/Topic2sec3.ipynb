{
 "cells": [
  {
   "cell_type": "markdown",
   "id": "c90b3c78",
   "metadata": {},
   "source": [
    "(sec:C2_RealChain)=\n",
    "# 2.3 Polymers: Real Chain"
   ]
  },
  {
   "cell_type": "markdown",
   "id": "23b58c91",
   "metadata": {},
   "source": [
    "## Excluded volume model\n",
    "So far we have considered the [ideal chain case](sec:C2_IdealChain), and imposed some short-range restrictions between nearby monomers. However the ideal chain model does allow for a chain to loop back on itself such that segments that are widely separated along the chain could occupy the same region in space.  \n",
    "We shall now introduce another level of complexity to the model that prevents any segment from occuyping the same space - in essence we are ascribing a volume to each of our original bond vectors, and imposing the condition that volumes cannot overlap, and the presence of one volume excludes the possibility of another volume being found there.. This model is thus known as the **excluded volume model** model.\n",
    "\n",
    "Let us return to the lattice model of a **random walk system** that we saw in {numref}`fig:C2_IdealLattice`, which I'm including here again to save you jumping between pages.\n",
    "```{figure} Figures/C2_IdealLattice.png\n",
    ":alt: We can model a polymer chain (black) as a two-dimensional lattice where the ends of the segments are circles and as such the segments themselves lie only on the lattice lines.\n",
    ":width: 60%\n",
    ":align: center\n",
    "We can model a polymer chain (black) as a two-dimensional lattice where the ends of the segments are circles and as such the segments themselves lie only on the lattice lines.\n",
    "```\n",
    "In the ideal case the end of the chain, which I am taking to be the point near the bottom right of the figure, could continue to the left and overlap the existing segments (the $4^\\text{th}$ segment would be the first overlapped). Our [short-range limitation](sec:C2_IdealShort) would not prevent this new overlap because the overlapping segments are separated by a good number of other segments. Instead we need to move to a lattice model known as a **self avoiding random walk** that introduces the requirement that a segment cannot pass through any site that has been traversed previously. This imposition is realised by reducing the number of possible directions a segment step can take to the number of **unoccupied** adjacent sites.\n",
    "\n",
    "Before we get into the detail, let us make a prediction to see how our intuition fares. The segments on an ideal chain can step in any of the directions available in the model used (in the 2D lattice, there are 4 directions available), whereas the real chain segments will have some directions removed from the possible options. As the chain grows in size we would expect the initial segments to be around the start of the chain, so the segments further along the chain will be required to occupy sites further from the start. In short, we would expect the volume occupied by a real chain to be larger than an ideal chain of the same length."
   ]
  },
  {
   "cell_type": "markdown",
   "id": "a2ae99a6",
   "metadata": {},
   "source": [
    "### Excluded volume model\n",
    "In previous section we considered the [ideal chain case](sec:C2_IdealChain), and imposed some short-range restrictions between nearby monomers. However the ideal chain model does allow for a chain to loop back on itself such that segments that are widely separated along the chain could occupy the same region in space.  \n",
    "We shall now introduce another level of complexity to the model that prevents any segment from occuyping the same space - in essence we are ascribing a volume to each of our original bond vectors, and imposing the condition that volumes cannot overlap, and the presence of one volume excludes the possibility of another volume being found there. This model is thus known as the **excluded volume model** model.  \n",
    "\n",
    "Let us return to the lattice model of a **random walk system** that we saw in {numref}`fig:C2_IdealLattice`, which I'm including here again to save jumping between pages. \n",
    "```{figure} Figures/C2_IdealLattice.png\n",
    ":name: fig:C2_IdealLattice2\n",
    ":alt: We can model a polymer chain (black) as a two-dimensional lattice where the ends of the segments are circles and as such the segments themselves lie only on the lattice lines.\n",
    ":width: 60%\n",
    ":align: center\n",
    "We can model a polymer chain (black) as a two-dimensional lattice where the ends of the segments are circles and as such the segments themselves lie only on the lattice lines.\n",
    "```\n",
    "In the ideal case the end of the chain, which I am taking to be the point near the bottom right of the figure\\footnote{Coordinate $(4,1)$ if we take the bottom left to be the origin}, could continue to the left and overlap the existing segments (the $4^\\text{th}$ segment would be the first overlapped). Our short-range limitation seen in section \\ref{sec:C2_IdealShort} would not prevent this new overlap because the overlapping segments are separated by a good number of other segments. Instead we need to move to a lattice model known as a \\textbf{self avoiding random walk} that introduces the requirement that a segment cannot pass through any site that has been traversed previously. This imposition is realised by reducing the number of possible directions a segment step can take to the number of \\textbf{unoccupied} adjacent sites.\\\\\n",
    "\\par\n",
    "Before we get into the detail, let us make a prediction to see how our intuition fares. The segments on an ideal chain can step in any of the directions available in the model used (in the 2D lattice, there are 4 directions available), whereas the real chain segments will have some directions removed from the possible options. As the chain grows in size we would expect the initial segments to be around the start of the chain, so the segments further along the chain will be required to occupy sites further from the start. In short, we would expect the volume occupied by a real chain to be larger than an ideal chain of the same length."
   ]
  },
  {
   "cell_type": "markdown",
   "id": "85ad63e0",
   "metadata": {},
   "source": [
    "---\n",
    "```{dropdown} Bibliography\n",
    "```{bibliography}\n",
    ":filter: docname in docnames\n",
    "```\n",
    "---"
   ]
  },
  {
   "cell_type": "markdown",
   "id": "c0822e79",
   "metadata": {},
   "source": [
    "## Questions for Practice\n",
    "\n",
    "\n",
    "`````{admonition} Question 1\n",
    ":class: dropdown, hint\n",
    "````{tab-set}\n",
    "```{tab-item} Question\n",
    "QUESTION TEXT HERE\n",
    "```\n",
    "\n",
    "```{tab-item} Hint\n",
    "HINT TEXT HERE\n",
    "```\n",
    "\n",
    "```{tab-item} Solution\n",
    "SOLUTION TEXT HERE\n",
    "```\n",
    "````\n",
    "`````"
   ]
  },
  {
   "cell_type": "markdown",
   "id": "7ff03f1d",
   "metadata": {},
   "source": [
    "`````{admonition} Question 2\n",
    ":class: dropdown, hint\n",
    "````{tab-set}\n",
    "```{tab-item} Question\n",
    "QUESTION TEXT HERE\n",
    "```\n",
    "\n",
    "```{tab-item} Hint\n",
    "HINT TEXT HERE\n",
    "```\n",
    "\n",
    "```{tab-item} Solution\n",
    "SOLUTION TEXT HERE\n",
    "```\n",
    "````\n",
    "`````"
   ]
  }
 ],
 "metadata": {
  "kernelspec": {
   "display_name": "Python 3 (ipykernel)",
   "language": "python",
   "name": "python3"
  },
  "language_info": {
   "codemirror_mode": {
    "name": "ipython",
    "version": 3
   },
   "file_extension": ".py",
   "mimetype": "text/x-python",
   "name": "python",
   "nbconvert_exporter": "python",
   "pygments_lexer": "ipython3",
   "version": "3.9.16"
  }
 },
 "nbformat": 4,
 "nbformat_minor": 5
}