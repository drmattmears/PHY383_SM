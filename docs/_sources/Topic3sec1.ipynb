{
 "cells": [
  {
   "cell_type": "markdown",
   "id": "9acd7f3b",
   "metadata": {},
   "source": [
    "## 3.1 - Introduction\n",
    "The concept of a phase transition is something we are all already familiar with, though in general this idea has only been considered for relatively simple systems such as a 'perfect' crystal melting into a liquid. We also touched on the idea of a glass being formed when such a simple system does not form but there is still a change in the macroscopic properties at some characteristic temperature.\n",
    "\n",
    "In this topic we are going to really dig down into the details of what a phase transition is for both simple kinds of matter and then extend into soft matter systems. The two broad categories we consider are\n",
    "1. **Equilibrium structures** that form through a phase transition and are generally stable (and also rather boring - think a solid crystal below the melting temperature).\n",
    "2. **Non-equilibrium structures** are transient in that a change to some external or **control** parameter (e.g. temperature, composition) the structure may change to a lower free energy configuration.\n",
    "\n",
    "````{margin}\n",
    "```{note}\n",
    "You may come across the term \"Gibbs free energy\" which assumes constant pressure. For the purpose of this course we will assume Helmholtz conditions unless otherwise stated.\n",
    "```\n",
    "````\n",
    "Phase transitions almost always involve a change in the order of a state, typically from a more ordered to a less ordered state such as the transition from a solid to a liquid. We can understand this in terms of the balance between entropy and energy often in terms of a change in temperature. This balance between the entropy and energy is captured by the **free energy** of a system which, in the case for constant volume, is described by the **Helmholtz free energy**\n",
    "````{margin}\n",
    "```{important}\n",
    "I cannot stress how important the $F=U-TS$ equation is in this course!\n",
    "```\n",
    "````\n",
    "````{math}\n",
    "F=U-TS\n",
    "````\n",
    "Let us define an order parameter for a phase transition that takes a zero value in the disordered phase and a finite value in the ordered. We can understand the nature of a phase transition if we understand how this order parameter varies with temperature. If this order parameter changes disontinuously (e.g. melting a crystal) then the phase transition is **first order** whereas a continuous order parameter describes a **second order** phase transition.\n",
    "\n",
    "We also need to consider the timescales in which these phase transitions occur. If a liquid is cooled to the melting temperature then the atoms will not spontaneously arrange themselves into a lattice - this takes time. If these timescales are long then some interesting but intermediate structures can be formed, and sometimes the lack of structure that is 'locked in' gives rise to a distinct phase that is neither first nor second order, i.e. glasses.\n",
    "\n",
    "There are many types of these phase transitions in more interesting materials, some of which are shown in {numref}`fig:C3_Order`, so we are going to limit ourselves to considering two simple but insightful systems: unmixing of two liquids and crystallisation.\n",
    "````{figure} Figures/C3_Order.png\n",
    ":name: fig:C3_Order\n",
    ":alt: Some examples of systems in their more and less ordered states.\n",
    ":width: 90%\n",
    ":align: center\n",
    "Some examples of systems in their more and less ordered states.\n",
    "````"
   ]
  }
 ],
 "metadata": {
  "kernelspec": {
   "display_name": "Python 3 (ipykernel)",
   "language": "python",
   "name": "python3"
  },
  "language_info": {
   "codemirror_mode": {
    "name": "ipython",
    "version": 3
   },
   "file_extension": ".py",
   "mimetype": "text/x-python",
   "name": "python",
   "nbconvert_exporter": "python",
   "pygments_lexer": "ipython3",
   "version": "3.9.16"
  }
 },
 "nbformat": 4,
 "nbformat_minor": 5
}
