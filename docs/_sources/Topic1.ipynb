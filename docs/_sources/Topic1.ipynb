{
 "cells": [
  {
   "cell_type": "markdown",
   "id": "c90b3c78",
   "metadata": {},
   "source": [
    "# Topic 1 - Macroscopic systems\n",
    "\n",
    "In this part of the course we will study soft matter systems from the macroscopic level, first considering [what a soft matter system actually is](Topic1).\n",
    "\n",
    "We'll then compare what happens to more traditional systems [(solids and liquids)](sec:C1_Shearing) when a shear force is applied, and see whether we can use these two systems together to model [viscoelasticity](sec:C1_Viscoelastic) which is more typical for a soft matter system.\n",
    "\n",
    "Finally we'll look briefly into the wonderful world of [glasses](sec:Glasses), something that is particularly dear to my heart."
   ]
  }
 ],
 "metadata": {
  "kernelspec": {
   "display_name": "Python 3 (ipykernel)",
   "language": "python",
   "name": "python3"
  },
  "language_info": {
   "codemirror_mode": {
    "name": "ipython",
    "version": 3
   },
   "file_extension": ".py",
   "mimetype": "text/x-python",
   "name": "python",
   "nbconvert_exporter": "python",
   "pygments_lexer": "ipython3",
   "version": "3.9.16"
  }
 },
 "nbformat": 4,
 "nbformat_minor": 5
}
