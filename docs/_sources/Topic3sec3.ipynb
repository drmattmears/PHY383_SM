{
 "cells": [
  {
   "cell_type": "markdown",
   "id": "9acd7f3b",
   "metadata": {},
   "source": [
    "## 3.3 - Mechanisms of phase separation.\n",
    "There are two dominant mechanisms of phase separation. Which mechanism occurs depends on how we **quench** our system out of the stable one phase part of the phase diagram.\n",
    "```{figure} Figures/C3_Mix5.png\n",
    ":name: fig:C3_Mix5\n",
    ":alt: A phase diagram for a simple molecular liquid-liquid system, this time expressed in terms of temparture rather than $\\chi$.\n",
    ":width: 70%\n",
    ":align: center\n",
    "A phase diagram for a simple molecular liquid-liquid system, this time expressed in terms of temparture rather than $\\chi$.\n",
    "```\n",
    "Consider {numref}`fig:C3_Mix5` in which I have changed $\\chi$ with $T$ giving a reflection of the diagram seen previously. If we reduce the temperature such that our point moves from the stable to the unstable part below the spinodal line the phase separation mechanism is [spinodal decomposition](sec:C3_Spinodal) whereas moving from the stable to metastable will result in the [nucleation](sec:C3_Nucleation) mechanism. We'll consider each of these in turn."
   ]
  },
  {
   "cell_type": "markdown",
   "id": "46b004ad",
   "metadata": {},
   "source": [
    "(sec:C3_Spinodal)=\n",
    "### Spinodal decomposition\n",
    "Within the spinodal line any small local change in composition will lower the free energy (e.g. around $\\phi_B$ in {numref}`fig:C3_Mix3`). The system is unstable and any fluctuation in composition is amplified as material flows from regions of low concentration to high concentration[^C3_HighLow]. This should strike you as a little odd to start with. For diffusing systems we expect the material to diffuse from high to low concentrations in order to reach a uniform concentration.\n",
    "\n",
    "The answer is that it is not the concentration that needs to be uniform at equilibrium but the **chemical potential**. Material will flow down a gradient from high to low chemical potential. The chemical potential is related to $\\frac{\\partial F}{\\partial\\phi}$, so if the second derivative of the free energy with respect to concentration is positive then the concentration will flow from high to low. But if the second derivative is negative, which is the definition of the spinodal region, then material will flow from regions of low to high concentration.\n",
    "\n",
    "It may surprise you that these fluctuations have a characteristic lengthscale. You can find the rigorous proof elsewhere but we can rationalise a qualitative argument for why this lengthscale exists, which is all we need for this course.\n",
    "```{figure} Figures/C3_Spinodal2.png\n",
    ":name: fig:C3_Spinodal2\n",
    ":alt: Spinodal decomposition. Long wavelengths (left) are unfavourable as the time required for molecules to diffuse is too large, whereas small wavelengths (middle) introduce a high amount of interfacial energy. The intermediate wavelengths are just right.\n",
    ":width: 90%\n",
    ":align: center\n",
    "Spinodal decomposition. Long wavelengths (left) are unfavourable as the time required for molecules to diffuse is too large, whereas small wavelengths (middle) introduce a high amount of interfacial energy. The intermediate wavelengths are just right.\n",
    "```\n",
    "The longest lengthscales (i.e. the polymer A and polymer B rich flucturations are very large) are unlikely to occur because they require like molecules to diffuse over a large distance which is a slow process. Shorter lengthscales have a large amount of interface between the two polymer species, and interfaces require energy so having a large amount of interface is energetically unfavourable. Thus we expect a lengthscale that best balances the time requirement for polymers to diffuse into / out of the region and the energetic cost of interfaces. {numref}`fig:C3_Spinodal` shows an image of a polymer blend undergoing spinodal decomposition (left), and the characteristic inverse lengthscales from scattering experiments (right). Note that the lengthscales increase with time rather than remaining at one characteristic lengthscale\n",
    "```{figure} Figures/C3_Spinodal.png\n",
    ":name: fig:C3_Spinodal\n",
    ":alt: Spinodal decomposition seen in real space (i.e. through a microscope) and in Fourier space (i.e. from scattering experiments). The Fourier space data allows us to determine a characteristic lengthscale of the spinodal structure.\n",
    ":width: 90%\n",
    ":align: center\n",
    "Spinodal decomposition seen in real space (i.e. through a microscope) and in Fourier space (i.e. from scattering experiments). The Fourier space data allows us to determine a characteristic lengthscale of the spinodal structure.\n",
    "```\n",
    "[^C3_HighLow]:Low and high are in terms of `like' polymers. So a region of high concentration for A means lots of A but little B, etc"
   ]
  },
  {
   "cell_type": "markdown",
   "id": "02bdd5e1",
   "metadata": {},
   "source": [
    "(sec:C3_Nucleation)=\n",
    "### Nucleation\n",
    "Unlike spinodal decomposition that is the result of small local fluctuations, nucleation occurs in the region where any local fluctuations would increase the free energy (e.g. around $\\phi_A$ in {numref}`fig:C3_Mix3`). Instead we require a process that produces a large change in local composition that will reduce the free energy. For this to happen we require a particle to be **nucleated** by a thermal fluctuation.\n",
    "\n",
    "Let us consider how much energy is required to nucleate a particle of size $r$. Firstly there will be a negative contribution to the free energy proportional to the volume of the particle, $\\Delta F_V$ per unit volume. This decrease is because the mixture is initially globally unstable so complete phase separation in the particle will lower the free energy. Next the creation of a droplet requires the creation of an interface between the droplet and surrounding polymer. This interface has an interfacial energy $\\gamma$ per unit area and is a positive contribution to the free energy.\n",
    "\n",
    "Bringing this all together the net change in free energy on nucleating a droplet of size $r$ is\n",
    "```{math}\n",
    ":label: eq:C3_Crystal1\n",
    "\\Delta F(r) = -\\frac{4}{3}\\pi r^3\\Delta F_V + 4\\pi r^2\\gamma\n",
    "```\n",
    "There exists a critical size $r^*$ below which droplets are unstable and their growth would increase the free energy of the system. Droplets above $r^*$ are stable and their growth would decrease the free energy.\n",
    "\n",
    "This $r^*$ can be found by finding the minimum in equation {eq}`eq:C3_Crystal1`, namely\n",
    "```{math}\n",
    "\\frac{\\mathrm{d}\\Delta F(r)}{\\mathrm{d}r}\\bigg\\rvert_{r=r^*}&=-4\\pi (r^*)^2\\Delta F_V + 8\\pi r^*\\gamma=0\\\\\n",
    "\\therefore r^* &= \\frac{2\\gamma}{\\Delta F_V}\n",
    "```\n",
    "from which the energy required to create this critical nucleus can be found,\n",
    "```{math}\n",
    "\\Delta F^* = \\frac{16\\gamma^3}{3\\Delta F_V^2}\n",
    "```\n",
    "Nucleation is an **activated** process meaning it requires a fluctuation that increases the local free energy by $\\Delta F^*$, and the probability that this fluctuation is determined by a Boltzmann factor. Thus the rate at which nucleation occurs is proportional to $\\exp\\left(-\\frac{\\Delta F^*}{k_\\text{B}T}\\right)$.\n",
    "\n",
    "This is generally unlikely at everyday temperatures but in reality the barrier for nucleation to occur is greatly reduced at surfaces, barriers or when defects (dust, for example) are present to act as a seed for nucleation."
   ]
  }
 ],
 "metadata": {
  "kernelspec": {
   "display_name": "Python 3 (ipykernel)",
   "language": "python",
   "name": "python3"
  },
  "language_info": {
   "codemirror_mode": {
    "name": "ipython",
    "version": 3
   },
   "file_extension": ".py",
   "mimetype": "text/x-python",
   "name": "python",
   "nbconvert_exporter": "python",
   "pygments_lexer": "ipython3",
   "version": "3.9.16"
  }
 },
 "nbformat": 4,
 "nbformat_minor": 5
}
